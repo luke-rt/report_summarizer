{
 "cells": [
  {
   "cell_type": "markdown",
   "metadata": {},
   "source": [
    "# datasets.py\n",
    "Prepares the datasets by \n",
    "- Reading pdfs in `datasets/raw`\n",
    "- Parsing them into utf-8 using PyPDF2\n",
    "- Writing them to text files in `datasets/out`"
   ]
  },
  {
   "cell_type": "code",
   "execution_count": 6,
   "metadata": {},
   "outputs": [
    {
     "name": "stdout",
     "output_type": "stream",
     "text": [
      "Directory setup complete.\n",
      "Extracting text from 1.pdf...\n",
      "Extracting text from 2.pdf...\n",
      "Done\n"
     ]
    }
   ],
   "source": [
    "import os\n",
    "import pytesseract\n",
    "from pdf2image import convert_from_path\n",
    "\n",
    "# raw pdfs\n",
    "PDF_DIRECTORY = \"datasets/raw\"\n",
    "# output directories\n",
    "TEXT_DIRECTORY = \"datasets/out\"\n",
    "\n",
    "def setup():\n",
    "    # Create directories if they don\"t exist\n",
    "    os.makedirs(PDF_DIRECTORY, exist_ok=True)\n",
    "    os.makedirs(TEXT_DIRECTORY, exist_ok=True)\n",
    "\n",
    "    print(\"Directory setup complete.\")\n",
    "\n",
    "    for file in os.listdir(PDF_DIRECTORY):\n",
    "        text = extract_text(file)\n",
    "        text_file_name = file.replace('.pdf', '.txt')\n",
    "        text_file_path = os.path.join(TEXT_DIRECTORY, text_file_name)\n",
    "\n",
    "        with open(text_file_path, 'w') as text_file:\n",
    "            text_file.write(text)\n",
    "    \n",
    "    print(\"Done\")\n",
    "\n",
    "def extract_text(file_name: str) -> str:\n",
    "    print(f\"Extracting text from {file_name}...\")\n",
    "\n",
    "    ocr_text = \"\"\n",
    "    images = convert_from_path(os.path.join(PDF_DIRECTORY, file_name))\n",
    "    for image in images:\n",
    "        ocr_text += pytesseract.image_to_string(image, lang='eng')\n",
    "\n",
    "    return ocr_text\n",
    "\n",
    "setup()"
   ]
  },
  {
   "cell_type": "code",
   "execution_count": 3,
   "metadata": {},
   "outputs": [
    {
     "name": "stdout",
     "output_type": "stream",
     "text": [
      "2.txt: new sustainability goals and initiatives.\n",
      "3. Expanding partnerships with other organizations to address social and environmental issues.\n",
      "4. Increasing support for diverse suppliers and small businesses.\n",
      "5. Expanding financial services and resources for low- and moderate-income individuals and communities.\n",
      "6. Increasing employee volunteerism and community engagement.\n",
      "7. Launching new products and services to meet evolving customer needs.\n",
      "8. Investing in technology and digital capabilities.\n",
      "9. Continuing efforts to address climate change and promote environmental sustainability.\n",
      "10. StrengthenBank of America emphasizes their commitment to responsible growth and delivering strong returns to stakeholders. They mention their focus on sustainable finance, racial and gender equality, economic opportunity, environmental sustainability, and diversity. The company has issued a Sustainability Bond and invested in minority depository institutions and funds run by women and diverse entrepreneurs. They measure their progress using Stakeholder Capitalism Metrics and disclose them in their annual report. Bank of America believes that capitalism can drive sustained progress when aligned with societal goals.with local communities and their commitment to supporting economic growth and social progress.\n",
      "\n",
      "Overall, the text discusses Bank of America's efforts in various areas such as enhancing digital capabilities, providing advisory services, supporting affordable housing, promoting sustainability, achieving diversity in the workplace, delivering for clients in challenging market conditions, and focusing on specific markets like Chicago.The text highlights several aspects of Bank of America's operations and initiatives. They prioritize delivering responsible growth in local markets and investing in digital capabilities for their clients. They are committed to supporting under-resourced business owners and entrepreneurs, particularly those from diverse backgrounds. They also emphasize their commitment to sustainable finance and achieving net zero greenhouse gas emissions.\n",
      "\n",
      "Furthermore, Bank of America is involved in various philanthropic efforts, including supporting art conservation, community development, and economic mobility. They provide financial education through the Better Money Habloyee resource groups, which are voluntary, employee-led groups that provide support, networking opportunities, and a sense of belonging for employees with shared identities or interests. These groups are open to all employees and aim to create an inclusive and supportive work environment. The text concludes by emphasizing Bank of America's commitment to diversity, inclusion, and equality, and its efforts to continuously improve and learn from employee feedback.The text provides information on various environmental factors and their impact on Bank of America's operations. Specifically, it mentions the bank's water usage, nature loss, and evaluation of credit risks associated with environmental matters.nt market volatility and uncertainty. Fourth, the Corporation successfully completed the acquisition of a competing financial institution. Lastly, the Corporation is implementing measures to address cybersecurity risks and protect customer data.r credit losses\n",
      "- Net interest income\n",
      "- Noninterest income\n",
      "- Noninterest expense\n",
      "- Income before income taxes\n",
      "- Income tax expense\n",
      "- Net income\n",
      "- Average common shares issued and outstanding\n",
      "- Return on average assets\n",
      "- Return on average common shareholders' equity\n",
      "- Return on average tangible common shareholders' equity\n",
      "- Return on average shareholders' equity\n",
      "- Return on average tangible shareholders' equity\n",
      "- Total assets\n",
      "- Total liabilities\n",
      "- Shareholders' equity\n",
      "- CashThe text provides various financial figures and ratios related to Bank of America's credit losses, noninterest expense, income before income taxes, income tax expense, net income, and net income applicable to common shareholders. It also includes information on the company's assets, liabilities, and business segments, as well as key performance indicators. The text mentions specific pages in a document for further information and definitions.ct the organization. The third line of defense, Internal Audit, provides independent assurance of the effectiveness of the risk management framework. The text also mentions the importance of strong risk culture and ethical behavior in managing risks effectively.s are subject to regulatory capital requirements and have measures in place to assess and manage risks. It discusses capital ratios, risk-weighted assets, and the calculation of TLAC ratios. The text also mentions the minimum capital requirements for the subsidiaries of the corporation and their regulatory net capital.The text discusses Bank of America's compliance with capital requirements and liquidity risk management practices. It mentions the role of the Board and the arrangements made with a subsidiary for transferring assets. It also discusses the obligations within the bank subsidiaries and the transfer of funds. The text provides information on the Net Stable Funding Ratio requirement, the funding approach of Bank of America, and its debt issuances and maturities. It mentions contingency funding plans and the influence of credit ratings. Moody's has placed the Corporation's ratingThe text discusses credit risk management at Bank of America, focusing on commitments, derivative positions, and consumer portfolio credit risk management. It mentions the composition and performance of various loan portfolios, including residential mortgages, home equity loans, and credit cards. The text also discusses troubled debt restructurings and the assessment of credit risk in the commercial portfolio. Bank of America utilizes various techniques and risk mitigation methods to manage commercial credit risk.The text discusses various aspects of commercial credit exposure, including loans, leases, derivative assets, and debt securities. It mentions improvements in commercial credit quality in 2022 and reductions in exposure for certain types of loans. The text also discusses commercial real estate loans, troubled debt restructurings, and industry concentrations. Risk mitigation strategies and credit protection measures are mentioned, as well as the use of credit derivatives for market-making activities. The text provides information on the exposure of Bank of America to different countriesThe text discusses various financial data and risk management techniques used by Bank of America. It mentions net charge-offs in 2022 and 2021, as well as small business commercial charge-offs and recoveries in those years. Market risk and interest rate risk are discussed, along with risk management techniques such as developing risk models and setting position limits. The text also discusses different types of risks in the financial market, hedging instruments, and the use of VaR to measure market risk. It mentions theThe text discusses various topics, including the use of derivative contracts to manage risks, the importance of understanding business processes and controls, information security measures employed by Bank of America, climate risk management strategies, complex accounting estimates, the relationship between unemployment rate and credit losses, and the fair value hierarchy in accounting standards. The text also mentions specific reports and documents where additional information can be found.The passage discusses various financial matters such as the calculation of income taxes, monitoring tax authorities, assessment of goodwill and intangible assets, reconciliation of financial measures, and the determination of accrued income taxes. It also includes tables showing the reconciliation of shareholders' equity and assets. The text emphasizes the importance of reliable financial reporting, internal control over financial reporting, and the audit process. It discusses critical audit matters such as credit losses on financial instruments and the valuation of Level 3 financial instruments. The text also providesven default occurs. The Corporation also considers the value of the underlying collateral and any guarantees or insurance coverage.\n",
      "\n",
      "For residential mortgages, the Corporation uses similar factors to estimate ECL, including the borrower's creditworthiness, property value, and economic conditions. It also considers the loan-to-value ratio and the presence of mortgage insurance or other forms of credit enhancement.\n",
      "\n",
      "In addition to assessing individual loans, the Corporation also evaluates the overall credit risk of its loan portfolio. It considers factors such as diversification, concentrationThe text discusses various topics related to accounting and financial processes, including the calculation of expected credit losses for different types of loans, the categorization of financial assets and liabilities, the evaluation and impairment of assets, consolidation of financial entities, and revenue recognition policies.summarizes the revenue generated from credit-related notes and the impact of fair value changes on these derivatives. The text also mentions the Corporation's credit risk exposure and provides data on the total notional amount of credit derivatives outstanding.The text discusses various financial aspects related to derivative contracts, collateral requirements, and credit rating. It also provides information on debt securities, including their fair value, gains, losses, and composition. Additionally, it mentions the gross realized gains and losses on sales of debt securities and provides details on the holdings of debt securities by Bank of America. Furthermore, it includes information on loans and leases, including categorization, past due loans, and nonperforming loans. It also provides data on credit quality indicators,ormation about off-balance sheet items such as commitments and contingencies. The text also mentions the corporation's equity and the components of accumulated other comprehensive income. Overall, the text provides a comprehensive view of Bank of America's financial position.tions potential liabilities related to legal and regulatory actions, including lawsuits, investigations, and enforcement actions. Additionally, the text discusses risks associated with cybersecurity, information technology, and operational disruptions.The text provides various financial and legal information about Bank of America. It discusses the bank's obligations and guarantees, legal disputes and proceedings, preferred stock and convertible notes, and financial statements.The provided text contains information about various aspects of a corporation's financial statements. It mentions the bank subsidiaries and their capital distributions to the corporation. It also discusses pension and postretirement plans, including fair value, contributions, benefits, and funding requirements. The investment strategy for pension plan assets is outlined, as well as the investment assets measured at fair value. Other topics covered include defined contribution plans, stock-based compensation plans, income tax expenses, and deferred tax assets and liabilities.Sorry, but I'm unable to provide the summary as the text is indecipherable.aturity. It mentions Consumer Banking, Global Wealth & Investment Management, Global Banking, Global Markets, and All Other as the different business segments. It explains that the allocation of assets and liabilities is determined based on the interest rate sensitivity and maturity profile of each segment. The text also states that total revenue includes both interest income and non-interest income.The provided text includes various financial information for Bank of America, such as net income, total assets, expenses, and income for the years 2020, 2021, and 2022. It also provides details on the geographical performance of the bank in different markets. Additionally, it includes definitions and explanations for financial terms and information about the bank's management team and board of directors. The text also provides contact information for Bank of America Shareholder Services and includes a disclaimer regarding investing and legal advice\n",
      "1.txt: improving its financial performance, specifically in terms of risk, control, and regulatory matters. The CEO reports that progress has been made, but there is still work to be done. Financially, the company generated $13.2 billion in net income, with solid performance excluding operating losses. They have also returned $16 billion to shareholders through stock repurchases and increased the dividend. The goal is to achieve a sustainable ROTCE of approximately 15%. The impact of increasing interest rates and a slowingmentions that the company has set aside funds for customer remediation and incurred expenses related to resolving issues and compensating affected customers. The text also acknowledges that ongoing reviews and assessments may lead to additional costs and liabilities in the future. It emphasizes the company's commitment to addressing customer concerns and improving its practices. Overall, the text highlights the regulatory challenges and costs the company has faced and continues to face as it works to address compliance issues and improve its operations.atory requirements and risk-weighted assets. The text also mentions the company's return on assets and return on equity, as well as the efficiency ratio and tangible common equity.\n",
      "\n",
      "Overall, the text provides a comprehensive overview of Wells Fargo's financial performance, including revenue, expenses, income, and various financial metrics. It also mentions the transition away from LIBOR and provides details on the company's performance in different areas such as net interest income, fees, and expenses.The text includes financial information for Wells Fargo & Company, including income, expenses, and balance sheet data for different divisions. It discusses factors driving revenue and expenses, changes in loan balances and deposits, as well as performance metrics such as return on allocated capital and efficiency ratio. The text also mentions the completion of sales of certain business divisions and other financial aspects of the company.The text provides information on Wells Fargo's financial performance, including a decrease in total assets and deposits. It also discusses the company's portfolio of available-for-sale and held-to-maturity debt securities. The text further provides information on the company's balance sheet analysis, including loan portfolios and deposit balances. It mentions off-balance sheet arrangements and discusses Wells Fargo's approach to risk management. The text describes the company's risk management framework and governance structure, as well as the various committees in place to manage riskThe text discusses various oversight responsibilities and functions related to compliance risk, conduct risk, model risk, and strategic risk within the company. The Board's Risk Committee is responsible for overseeing these areas. The Compliance function monitors compliance and conduct risk programs, while the Model Risk function oversees model risk. Strategic risk is overseen by the Strategic Risk Oversight function. The text also mentions the oversight of reputation risk and credit risk management by the Board's Risk Committee. Reputation risk refers to the negative impact on the company'sserves (PLRs) of Wells Fargo & Company. PLRs represent the estimated liability for future credit losses on purchased loans with deteriorated credit quality since their acquisition date. The PLRs are determined based on the expected cash flows of the loans and are discounted at the loan's original effective interest rate. The text mentions that the PLRs decreased by $211 million due to updates in the cash flow estimates and improvement in the economic forecast. The overall decreases in the PLRs were partially offset by thentions that financial statements provide information about a company's financial performance and position, including its assets, liabilities, and equity. Liquidity risk refers to the risk of not being able to meet financial obligations as they become due. The text also discusses how the company manages liquidity risk through various strategies, such as maintaining sufficient cash and liquid assets, accessing funding from external sources, and managing the maturity profile of liabilities. Additionally, it mentions that the company monitors and assesses liquidity risk on an ongoing basis andThe text discusses Wells Fargo's liquidity management objectives and the company's compliance with the net stable funding ratio (NSFR) and liquidity coverage ratio (LCR) requirements. It also provides information on Wells Fargo's funding sources and borrowing capacity. The text mentions that there is no specific credit rating mentioned, and it discusses the company's capital management program and capital requirements. It also includes information on risk-based capital calculations and components, as well as details on credit risk, market risk, and operational risk.The text discusses the regulatory requirements and capital levels for Wells Fargo & Company. They are subject to the Federal Reserve Board's capital plan rule and must comply with various regulations, including risk governance frameworks and oversight responsibilities. The text also mentions resolution plans and the possibility of bankruptcy or orderly liquidation. Wells Fargo has entered into a support agreement with its subsidiaries to ensure their availability in case of financial distress. The text also mentions consent orders, changes due to the COVID-19 pandemic and climate change, and criticalThe text discusses various topics related to financial reporting and accounting practices at Wells Fargo. These include the valuation of Residential Mortgage Servicing Rights (MSRs), the use of fair value measurements, the activity in debt and equity security classes, the monitoring of tax authorities and legal actions, the calculation of carrying amounts and fair values of reporting units, and the impact of current accounting developments. The text also mentions two specific Accounting Standards Updates (ASUs) and changes made by Wells Fargo in regard to fixed-rate debtThe text provided discusses various aspects of Wells Fargo & Company's mortgage loan modification efforts, mortgage loan repurchase demands, mortgage servicing practices, regulatory impacts, industry standards, strategic plans, financial performance, credit quality, net interest income, loan growth, capital and liquidity levels, legal and regulatory developments, common stock dividends, return on assets and equity, income tax rate, contingencies, interest rate environment, capital markets, investment banking, risks and uncertainties. It also mentions factors that could impact the company'stheir capital reserves. These regulations aim to ensure the stability and resilience of the banking system but can have an impact on Wells Fargo's profitability and operations. The text also mentions the potential risk of non-compliance with these regulations, which could lead to regulatory actions, fines, and reputational damage.rse impact on the company's financial position and ability to conduct business.\n",
      "Overall, the text highlights various risks and challenges that Wells Fargo may face, including credit risks, operational risks, information security risks, and legal and regulatory risks. It emphasizes the importance of effective risk management practices and the potential consequences of failure in mitigating these risks.t highlights the importance of maintaining effective internal controls and risk management processes to mitigate these risks. Overall, the passage discusses potential risks related to regulatory compliance, reputation, climate change, interest rate changes, economic conditions, technology, accounting standards, and financial assets and liabilities.s related to these activities, and their fair values are determined based on observable market prices or valuation techniques. The text also mentions the company's risk management practices, including the use of derivatives to hedge certain risks.\n",
      "\n",
      "The last paragraph provides information about the company's fair value measurements and disclosures. It states that the company uses a three-level hierarchy to classify its financial assets and liabilities based on the reliability of the inputs used to determine their fair values. The company provides disclosures about the fair value of its financial instrumentsThe passage discusses various accounting policies and practices related to debt securities, loans, and credit losses at Wells Fargo & Company. It explains the treatment of debt securities on the balance sheet and how changes in fair value are recorded. It also discusses the recognition of gains, losses, and impairments on these securities. The passage further explains the accounting treatment of loans, including how they are reported and any additional fees, costs, or discounts involved. It also mentions the process of placing loans on nonaccrualsecurities and the categorization of these securities into different impairment categories. It explains that the impairment reviews consider factors such as the financial condition of the issuer, the length and magnitude of the security's fair value decline, and the company's intent and ability to hold the security. The text also mentions that impairments for nonmarketable equity securities are recorded as a component of noninterest expense.The text discusses various aspects of Wells Fargo & Company's accounting policies and financial statements related to securities and assets. It mentions the process of valuing assets at fair value, the accounting of pension plans, and the classification and valuation of assets and liabilities. Tables are provided to show the values and details of trading assets and liabilities, debt securities, and equity securities. The text also discusses credit quality, delinquency status, and unrealized losses of debt securities. Additionally, tables are presented to show theThe text summarizes Wells Fargo & Company's financial activities related to marketable equity securities, total equity securities held for trading, and equity securities held through the equity method and other methods. It discusses gains, losses, and write-downs associated with these securities, as well as loans outstanding by segment and class. The text also provides information on residential mortgage loans in California, loan purchases, sales, and transfers, unfunded credit commitments, credit quality indicators, outstanding loan balances, and the processing of foreclosure casesThe text provides information about Wells Fargo & Company's loan portfolios, including various loan categories and trial modifications. It also discusses the activities related to residential and commercial mortgage origination, sales, and servicing. The text mentions the fair value method applied to residential mortgage servicing rights and the amortization method applied to commercial mortgage servicing rights. It includes data on the changes in fair value mortgage servicing rights over the years. The text also provides information on intangible assets, leasing activities, and the rail car leasing businessThe text discusses various topics related to Wells Fargo & Company, including dividend rates, common stock shares, restricted share rights, performance share awards, retained earnings, legal actions and proceedings, investigations, settlements, and legal complaints filed against the bank. It mentions specific cases and allegations, as well as the company's cooperation with regulatory authorities. The outcomes of these legal matters are uncertain and could potentially result in significant financial losses, although Wells Fargo believes they will not have a material adverse effect on its financial condition.use of derivatives by Wells Fargo & Company for risk management and customer accommodation trading activities. Derivatives are used to hedge against variability in cash payments due to interest rate or foreign currency fluctuations. They are also used to help customers manage market risks. Wells Fargo executes most derivative transactions under master netting arrangements, allowing them to offset receivables and payables with the same counterparty in the event of a default. The company also uses derivatives to hedge against changes in the fair value of certain investments andges in other inputs to maintain overall fair value. The text highlights the importance of transparency and documentation in the valuation process and emphasizes the use of market data and observable inputs whenever possible.This text discusses Wells Fargo & Company's involvement in various financial activities and transactions, including the fair value measurement of financial instruments, loan sales and securitization, involvement with variable interest entities (VIEs), and residential mortgage servicing rights. It provides information on the valuation techniques used, fair value hierarchy, gains/losses on assets, and the fair value carrying amount of assets and liabilities. The text also mentions the exclusion of certain transactions and the company's role as a servicer or investmentThe text provides detailed information about Wells Fargo & Company's financial activities and obligations. It includes discussions on the company's variable interest entities, guarantees, financial contracts, liabilities, and collateralized financing activities. It also provides tables showing the values and exposures related to these activities.The text provides information on various aspects of Wells Fargo & Company, including its operating segments, financial results, income sources, credit card rewards and rebates, fees earned, expenses incurred, and employee benefits. It includes tables and numbers presenting data for different years and categories.Wells Fargo & Company's investment strategies focus on long-term growth opportunities with moderate risk and diversification across various asset classes. The target asset allocation mix for the Cash Balance Plan includes fixed income, equities, real estate, private equity, and other investments. The company's investment risk and performance are regularly reviewed.\n",
      "\n",
      "The text also discusses changes made to Wells Fargo's employee retirement plan, including eligibility criteria, contribution vesting and timing, and payment options. It mentions the expenses associated with the defined contributionThe text contains various information about Wells Fargo & Company and its subsidiaries for the years 2020, 2021, and 2022. It includes details about the income of the subsidiaries, dividends paid from indirect bank subsidiaries, the audit of the company's consolidated financial statements, the assessment of the company's Residential Mortgage Servicing Rights (MSRs), the evaluation of goodwill impairment for the Consumer Lending reporting unit, financial information for Wells Fargo & Company, a list of the company's Operating Committee\n"
     ]
    }
   ],
   "source": [
    "from openai import OpenAI\n",
    "import os\n",
    "\n",
    "client = OpenAI(api_key=os.environ[\"OPENAI_API_KEY\"])\n",
    "\n",
    "def summarize(text: str) -> str:\n",
    "    summary = \"\"\n",
    "    chunks = [text[i:i + 4096] for i in range(0, len(text), 4096)]\n",
    "    for chunk in chunks:\n",
    "        completion = client.chat.completions.create(\n",
    "            model=\"gpt-3.5-turbo\",\n",
    "            messages=[{\n",
    "                \"role\": \"user\",\n",
    "                \"content\": \"Summarize the following, and return nothing if the text is indecipherable: \" + chunk\n",
    "            }],\n",
    "            max_tokens=100,\n",
    "        )\n",
    "\n",
    "        result = completion.choices[0].message.content\n",
    "\n",
    "        summary += result\n",
    "    \n",
    "    return summary\n",
    "\n",
    "for file in os.listdir(\"datasets/out\"):\n",
    "    with open(os.path.join(\"datasets/out\", file), \"rt\") as fin:\n",
    "        text = fin.read()\n",
    "        # Two iterations because the first summary is still too long\n",
    "        print(file + \": \" + summarize(summarize(text)))"
   ]
  }
 ],
 "metadata": {
  "kernelspec": {
   "display_name": "venv",
   "language": "python",
   "name": "python3"
  },
  "language_info": {
   "codemirror_mode": {
    "name": "ipython",
    "version": 3
   },
   "file_extension": ".py",
   "mimetype": "text/x-python",
   "name": "python",
   "nbconvert_exporter": "python",
   "pygments_lexer": "ipython3",
   "version": "3.11.7"
  }
 },
 "nbformat": 4,
 "nbformat_minor": 2
}
